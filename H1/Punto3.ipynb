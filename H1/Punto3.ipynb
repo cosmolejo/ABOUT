{
  "cells": [
    {
      "cell_type": "code",
      "source": [
        "!wget --no-cache -O init.py -q https://raw.githubusercontent.com/MateoRivera/network-dynamics/refs/heads/main/H1/init.py?token=GHSAT0AAAAAACZHWD3M4LTCY4SSOFRQD7KWZZFABIQ\n",
        "from init import init; init(force_download=False)\n"
      ],
      "metadata": {
        "id": "q2wd_zAeTi-_",
        "outputId": "5e63ac8e-6fcc-4e13-eecb-fe3bbb685846",
        "colab": {
          "base_uri": "https://localhost:8080/"
        }
      },
      "id": "q2wd_zAeTi-_",
      "execution_count": 1,
      "outputs": [
        {
          "output_type": "stream",
          "name": "stdout",
          "text": [
            "replicating local resources\n"
          ]
        }
      ]
    },
    {
      "cell_type": "markdown",
      "source": [],
      "metadata": {
        "id": "is5qwDmbRlbN"
      },
      "id": "is5qwDmbRlbN"
    },
    {
      "cell_type": "markdown",
      "source": [
        "##a\n"
      ],
      "metadata": {
        "id": "7NHmCaN2RhwQ"
      },
      "id": "7NHmCaN2RhwQ"
    },
    {
      "cell_type": "markdown",
      "source": [
        "##b"
      ],
      "metadata": {
        "id": "EV9bYX46RoEb"
      },
      "id": "EV9bYX46RoEb"
    }
  ],
  "metadata": {
    "kernelspec": {
      "display_name": "Python 3",
      "language": "python",
      "name": "python3"
    },
    "language_info": {
      "codemirror_mode": {
        "name": "ipython",
        "version": 2
      },
      "file_extension": ".py",
      "mimetype": "text/x-python",
      "name": "python",
      "nbconvert_exporter": "python",
      "pygments_lexer": "ipython2",
      "version": "2.7.6"
    },
    "colab": {
      "provenance": []
    }
  },
  "nbformat": 4,
  "nbformat_minor": 5
}