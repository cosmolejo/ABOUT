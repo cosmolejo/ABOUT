{
 "cells": [
  {
   "cell_type": "markdown",
   "metadata": {},
   "source": [
    "# Objective\n"
   ]
  },
  {
   "cell_type": "markdown",
   "metadata": {},
   "source": [
    "The rotational excitation-temperature, $T_ex$ , of a molecules depends on the kinetic temperature, $T_K$\n",
    "and the density, $n$. If the density is lower than the critical value, $n_c$ , then $T_ex < T_K$ . The critical density\n",
    "varies molecule-by-molecule, so by looking at two molecules at once we have a way to measure the\n",
    "density in an interstellar cloud. You will now find out how this works using the molecules CO and CS."
   ]
  },
  {
   "cell_type": "markdown",
   "metadata": {},
   "source": [
    "# Procedure"
   ]
  },
  {
   "cell_type": "code",
   "execution_count": 1,
   "metadata": {
    "collapsed": false
   },
   "outputs": [
    {
     "name": "stdout",
     "output_type": "stream",
     "text": [
      "Populating the interactive namespace from numpy and matplotlib\n"
     ]
    }
   ],
   "source": [
    "###############################################\n",
    "### Libraries and Initial data\n",
    "###############################################\n",
    "import numpy as np\n",
    "from matplotlib import pyplot as plt\n",
    "from scipy import constants as cons\n",
    "%pylab inline\n",
    "\n",
    "CO = {'B': 1.92253, 'D': 6.1E-6, 'q01':3.25E-11, 'mu':0.112}\n",
    "CS = {'B': 0.81708, 'D': 1.3E-6, 'q01':3.12E-11, 'mu':1.96}\n",
    "qco=3.25E-11\n",
    "qcs=3.12E-11"
   ]
  },
  {
   "cell_type": "markdown",
   "metadata": {},
   "source": [
    "## 1. Calculate the following properties for the $J = 1 → 0$ transitions of CO and CS. "
   ]
  },
  {
   "cell_type": "markdown",
   "metadata": {},
   "source": [
    "### a. The rotational energies of the $J = 0$ and $1$ levels in wavenumber units ($cm^{ −1}$).\n"
   ]
  },
  {
   "cell_type": "code",
   "execution_count": 2,
   "metadata": {
    "collapsed": false
   },
   "outputs": [
    {
     "name": "stdout",
     "output_type": "stream",
     "text": [
      "CO: E0 =  0.0  E1 =  3.8450356 [cm^(-1)] or  7.63795437532e-23  [Joul]\n",
      "CS: E0 =  0.0  E1 =  1.6341548 [cm^(-1)] or  3.24615975067e-23  [Joul]\n"
     ]
    }
   ],
   "source": [
    "def Energy(J,B,D):\n",
    "    return B*J*(J+1)-D*(J*(J+1))**2\n",
    "\n",
    "CO['E_0']=0.\n",
    "CO['E_1']=Energy(1,CO['B'],CO['D'])\n",
    "CO['E_1_Joul']=CO['E_1']*(1.602176565e-19/8065.54429)\n",
    "CS['E_0']=0.\n",
    "CS['E_1']=Energy(1,CS['B'],CS['D'])\n",
    "CS['E_1_Joul']=CS['E_1']*(1.602176565e-19/8065.54429)\n",
    "\n",
    "print 'CO: E0 = ',CO['E_0'],' E1 = ',CO['E_1'],'[cm^(-1)] or ',CO['E_1_Joul'],' [Joul]' \n",
    "print 'CS: E0 = ',CS['E_0'],' E1 = ',CS['E_1'],'[cm^(-1)] or ',CS['E_1_Joul'],' [Joul]' "
   ]
  },
  {
   "cell_type": "markdown",
   "metadata": {},
   "source": [
    "### b. The frequency (GHz) and energy ($cm^{ −1}$ ) of their 1 → 0 transitions.\n"
   ]
  },
  {
   "cell_type": "code",
   "execution_count": 3,
   "metadata": {
    "collapsed": false
   },
   "outputs": [
    {
     "name": "stdout",
     "output_type": "stream",
     "text": [
      "CO: f10 =  115.271259271 [GHz] Nu10 =  3.84237530905 [cm-1]\n",
      "CS: f10 =  48.9907249859 [GHz] Nu10 =  1.6330241662 [cm-1]\n"
     ]
    }
   ],
   "source": [
    "def f(E):\n",
    "    return (E/cons.h)/1e9\n",
    "def nu(E):\n",
    "    return E/(cons.Planck*3e10)\n",
    "    \n",
    "CO['f_10']=f(CO['E_1_Joul'])\n",
    "CO['Nu_10']=nu(CO['E_1_Joul'])\n",
    "\n",
    "CS['f_10']=f(CS['E_1_Joul'])\n",
    "CS['Nu_10']=nu(CS['E_1_Joul'])\n",
    "\n",
    "print'CO: f10 = ',CO['f_10'],'[GHz] Nu10 = ',CO['Nu_10'],'[cm-1]'\n",
    "print'CS: f10 = ',CS['f_10'],'[GHz] Nu10 = ',CS['Nu_10'],'[cm-1]'"
   ]
  },
  {
   "cell_type": "markdown",
   "metadata": {},
   "source": [
    "### c. The Einstein-A coefficients of these transitions ($s^{ −1 }$)\n"
   ]
  },
  {
   "cell_type": "code",
   "execution_count": 4,
   "metadata": {
    "collapsed": false
   },
   "outputs": [
    {
     "name": "stdout",
     "output_type": "stream",
     "text": [
      "CO: A10= 7.448071e-08 [s^-1]\n",
      "CS: A10= 1.751049e-06 [s^-1]\n"
     ]
    }
   ],
   "source": [
    "def A(nu,mu):\n",
    "    return 3.14e-7*nu**3.*mu**2.*(1./3.)\n",
    "    \n",
    "\n",
    "CO['A10']=A(CO['Nu_10'],CO['mu'])\n",
    "CS['A10']=A(CS['Nu_10'],CS['mu'])\n",
    "\n",
    "print ('CO: A10= %e [s^-1]'%CO['A10'])\n",
    "print ('CS: A10= %e [s^-1]'%CS['A10'])"
   ]
  },
  {
   "cell_type": "markdown",
   "metadata": {},
   "source": [
    "### d. Their critical density ($cm^{ −3}$ )\n"
   ]
  },
  {
   "cell_type": "code",
   "execution_count": 5,
   "metadata": {
    "collapsed": false
   },
   "outputs": [
    {
     "name": "stdout",
     "output_type": "stream",
     "text": [
      "CO: nc =  2291.71404492 [cm^-3]\n",
      "CO: nc =  56123.3746679 [cm^-3]\n"
     ]
    }
   ],
   "source": [
    "CO['nc']=CO['A10']/CO['q01']\n",
    "CS['nc']=CS['A10']/CS['q01']\n",
    "\n",
    "print'CO: nc = ',CO['nc'],'[cm^-3]'\n",
    "print'CO: nc = ',CS['nc'],'[cm^-3]'"
   ]
  },
  {
   "cell_type": "markdown",
   "metadata": {},
   "source": [
    "### e. The level-population ratios, $\\frac{n_{J=1}}{n_{J=0}} $, assuming the two-level approximation, with a kinetic temperature of $20 K$ and an $H_2$ density of $10^4 cm^{−3}$.\n"
   ]
  },
  {
   "cell_type": "code",
   "execution_count": 6,
   "metadata": {
    "collapsed": false
   },
   "outputs": [
    {
     "name": "stderr",
     "output_type": "stream",
     "text": [
      "-c:12: RuntimeWarning: divide by zero encountered in double_scalars\n"
     ]
    },
    {
     "data": {
      "text/plain": [
       "\"\\nCO['q10']=q10(CO['q01'],CO['E_1'],cons.k,20)\\nCS['q10']=q10(CS['q01'],CS['E_1'],cons.k,20)\\nCO['n1/n0']=ratio(1e4,CO['A10'],CO['q01'],CO['q10'])\\nCS['n1/n0']=ratio(1e4,CS['A10'],CS['q01'],CS['q10'])\\n\""
      ]
     },
     "execution_count": 6,
     "metadata": {},
     "output_type": "execute_result"
    }
   ],
   "source": [
    "Aco=CO['A10']\n",
    "Acs=CS['A10']\n",
    "E1co=CO['E_1']\n",
    "E1cs=CS['E_1']\n",
    "k=cons.k\n",
    "def ratio(nh,A,q,q2):\n",
    "    rat = ((nh*q)/A)*(1/(1+(nh*q2)/A))\n",
    "    \n",
    "    return rat\n",
    "\n",
    "def q10(q,E,k,T):\n",
    "    q10 = (q/3.)/np.exp(-E/(k*T))\n",
    "    \n",
    "    return q10\n",
    "    \n",
    "q10co = q10(qco,E1co,k,20)\n",
    "q10cs = q10(qcs,E1cs,k,20)\n",
    "    \n",
    "ratioco = ratio(1e4,Aco,qco,q10co)\n",
    "ratiocs = ratio(1e4,Acs,qcs,q10cs)\n",
    "\n",
    "'''\n",
    "CO['q10']=q10(CO['q01'],CO['E_1'],cons.k,20)\n",
    "CS['q10']=q10(CS['q01'],CS['E_1'],cons.k,20)\n",
    "CO['n1/n0']=ratio(1e4,CO['A10'],CO['q01'],CO['q10'])\n",
    "CS['n1/n0']=ratio(1e4,CS['A10'],CS['q01'],CS['q10'])\n",
    "'''"
   ]
  },
  {
   "cell_type": "markdown",
   "metadata": {},
   "source": [
    "### f. The excitation temperatures given by these ratios."
   ]
  },
  {
   "cell_type": "code",
   "execution_count": null,
   "metadata": {
    "collapsed": true
   },
   "outputs": [],
   "source": []
  }
 ],
 "metadata": {
  "kernelspec": {
   "display_name": "Python 2",
   "language": "python2",
   "name": "python2"
  },
  "language_info": {
   "codemirror_mode": {
    "name": "ipython",
    "version": 2
   },
   "file_extension": ".py",
   "mimetype": "text/x-python",
   "name": "python",
   "nbconvert_exporter": "python",
   "pygments_lexer": "ipython2",
   "version": "2.7.12"
  }
 },
 "nbformat": 4,
 "nbformat_minor": 0
}
